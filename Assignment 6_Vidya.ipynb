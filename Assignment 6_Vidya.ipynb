{
 "cells": [
  {
   "cell_type": "code",
   "execution_count": 7,
   "id": "833e8525",
   "metadata": {},
   "outputs": [
    {
     "name": "stdout",
     "output_type": "stream",
     "text": [
      "(8, 9)\n"
     ]
    }
   ],
   "source": [
    "#Q1) Sum of two closest numbers\n",
    "def two_sum_closest(nums, target):\n",
    "    closest_sum = float('inf')\n",
    "    result = None\n",
    "\n",
    "    for i in range(len(nums)):\n",
    "        for j in range(i + 1, len(nums)):\n",
    "            current_sum = nums[i] + nums[j]\n",
    "            if abs(current_sum - target) < abs(closest_sum - target):\n",
    "                closest_sum = current_sum\n",
    "                result = (nums[i], nums[j])\n",
    "\n",
    "    return result\n",
    "\n",
    "sorted_nums = [1,5,8,9,20,24]\n",
    "target = 18\n",
    "closest_pair = two_sum_closest(sorted_nums, target)\n",
    "print(closest_pair) "
   ]
  },
  {
   "cell_type": "code",
   "execution_count": 14,
   "id": "c4b7c684",
   "metadata": {},
   "outputs": [
    {
     "name": "stdout",
     "output_type": "stream",
     "text": [
      "3\n"
     ]
    }
   ],
   "source": [
    "#2)\n",
    "\n",
    "def maxProfit(prices):\n",
    "    if not prices:\n",
    "        return 0\n",
    "\n",
    "    n = len(prices)\n",
    "    with_stock=[0] * n\n",
    "    without_stock=[0] * n\n",
    "    with_stock[0] = -prices[0]\n",
    "    for i in range(1, n):\n",
    "        with_stock[i] = max(with_stock[i - 1], without_stock[i - 2] - prices[i])\n",
    "        without_stock[i] = max(without_stock[i - 1], with_stock[i - 1] + prices[i])\n",
    "    return without_stock[-1]\n",
    "            \n",
    "prices = [1, 2, 3, 0, 2]\n",
    "max_profit = maxProfit(prices)\n",
    "print(max_profit)            "
   ]
  },
  {
   "cell_type": "code",
   "execution_count": null,
   "id": "a95c8371",
   "metadata": {},
   "outputs": [],
   "source": []
  }
 ],
 "metadata": {
  "kernelspec": {
   "display_name": "Python 3 (ipykernel)",
   "language": "python",
   "name": "python3"
  },
  "language_info": {
   "codemirror_mode": {
    "name": "ipython",
    "version": 3
   },
   "file_extension": ".py",
   "mimetype": "text/x-python",
   "name": "python",
   "nbconvert_exporter": "python",
   "pygments_lexer": "ipython3",
   "version": "3.9.13"
  }
 },
 "nbformat": 4,
 "nbformat_minor": 5
}
