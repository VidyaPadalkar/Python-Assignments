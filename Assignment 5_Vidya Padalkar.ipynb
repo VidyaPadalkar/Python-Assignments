{
 "cells": [
  {
   "cell_type": "code",
   "execution_count": 1,
   "id": "3daa78d7",
   "metadata": {},
   "outputs": [],
   "source": [
    "import numpy as np\n",
    "import pandas as pd\n",
    "import matplotlib.pyplot as plt"
   ]
  },
  {
   "cell_type": "code",
   "execution_count": 2,
   "id": "08f0878a",
   "metadata": {},
   "outputs": [],
   "source": [
    "# 1) Dataset loading/reading in pandas to dispay data\n",
    "data = pd.read_csv(r\"C:\\Users\\PQ593TU\\OneDrive - EY\\Desktop\\Market Risk & Python Training\\Python Training\\5th session\\sales_data.csv\")"
   ]
  },
  {
   "cell_type": "code",
   "execution_count": 3,
   "id": "26ce8d54",
   "metadata": {},
   "outputs": [
    {
     "data": {
      "text/html": [
       "<div>\n",
       "<style scoped>\n",
       "    .dataframe tbody tr th:only-of-type {\n",
       "        vertical-align: middle;\n",
       "    }\n",
       "\n",
       "    .dataframe tbody tr th {\n",
       "        vertical-align: top;\n",
       "    }\n",
       "\n",
       "    .dataframe thead th {\n",
       "        text-align: right;\n",
       "    }\n",
       "</style>\n",
       "<table border=\"1\" class=\"dataframe\">\n",
       "  <thead>\n",
       "    <tr style=\"text-align: right;\">\n",
       "      <th></th>\n",
       "      <th>Order ID</th>\n",
       "      <th>Product</th>\n",
       "      <th>Quantity</th>\n",
       "      <th>Price</th>\n",
       "      <th>Order Date</th>\n",
       "      <th>Customer</th>\n",
       "    </tr>\n",
       "  </thead>\n",
       "  <tbody>\n",
       "    <tr>\n",
       "      <th>0</th>\n",
       "      <td>176558</td>\n",
       "      <td>USB-C Charging Cable</td>\n",
       "      <td>2</td>\n",
       "      <td>11.95</td>\n",
       "      <td>04/19/19 08:46</td>\n",
       "      <td>917 1st St, Dallas, TX 75001</td>\n",
       "    </tr>\n",
       "    <tr>\n",
       "      <th>1</th>\n",
       "      <td>176559</td>\n",
       "      <td>Bose SoundSport Headphones</td>\n",
       "      <td>1</td>\n",
       "      <td>99.99</td>\n",
       "      <td>04-07-2019 22:30</td>\n",
       "      <td>682 Chestnut St, Boston, MA 02215</td>\n",
       "    </tr>\n",
       "    <tr>\n",
       "      <th>2</th>\n",
       "      <td>176560</td>\n",
       "      <td>Google Phone</td>\n",
       "      <td>1</td>\n",
       "      <td>600.00</td>\n",
       "      <td>04-12-2019 14:38</td>\n",
       "      <td>669 Spruce St, Los Angeles, CA 90001</td>\n",
       "    </tr>\n",
       "    <tr>\n",
       "      <th>3</th>\n",
       "      <td>176560</td>\n",
       "      <td>Wired Headphones</td>\n",
       "      <td>1</td>\n",
       "      <td>11.99</td>\n",
       "      <td>04-12-2019 14:38</td>\n",
       "      <td>669 Spruce St, Los Angeles, CA 90001</td>\n",
       "    </tr>\n",
       "    <tr>\n",
       "      <th>4</th>\n",
       "      <td>176561</td>\n",
       "      <td>Wired Headphones</td>\n",
       "      <td>1</td>\n",
       "      <td>11.99</td>\n",
       "      <td>04/30/19 09:27</td>\n",
       "      <td>333 8th St, Los Angeles, CA 90001</td>\n",
       "    </tr>\n",
       "    <tr>\n",
       "      <th>...</th>\n",
       "      <td>...</td>\n",
       "      <td>...</td>\n",
       "      <td>...</td>\n",
       "      <td>...</td>\n",
       "      <td>...</td>\n",
       "      <td>...</td>\n",
       "    </tr>\n",
       "    <tr>\n",
       "      <th>18284</th>\n",
       "      <td>194090</td>\n",
       "      <td>Google Phone</td>\n",
       "      <td>1</td>\n",
       "      <td>600.00</td>\n",
       "      <td>04-08-2019 17:11</td>\n",
       "      <td>177 Jackson St, Los Angeles, CA 90001</td>\n",
       "    </tr>\n",
       "    <tr>\n",
       "      <th>18285</th>\n",
       "      <td>194091</td>\n",
       "      <td>AA Batteries (4-pack)</td>\n",
       "      <td>1</td>\n",
       "      <td>3.84</td>\n",
       "      <td>04/15/19 16:02</td>\n",
       "      <td>311 Forest St, Austin, TX 73301</td>\n",
       "    </tr>\n",
       "    <tr>\n",
       "      <th>18286</th>\n",
       "      <td>194092</td>\n",
       "      <td>AAA Batteries (4-pack)</td>\n",
       "      <td>2</td>\n",
       "      <td>2.99</td>\n",
       "      <td>04/28/19 14:36</td>\n",
       "      <td>347 Sunset St, San Francisco, CA 94016</td>\n",
       "    </tr>\n",
       "    <tr>\n",
       "      <th>18287</th>\n",
       "      <td>194093</td>\n",
       "      <td>AA Batteries (4-pack)</td>\n",
       "      <td>1</td>\n",
       "      <td>3.84</td>\n",
       "      <td>04/14/19 15:09</td>\n",
       "      <td>835 Lake St, Portland, OR 97035</td>\n",
       "    </tr>\n",
       "    <tr>\n",
       "      <th>18288</th>\n",
       "      <td>194094</td>\n",
       "      <td>Lightning Charging Cable</td>\n",
       "      <td>1</td>\n",
       "      <td>14.95</td>\n",
       "      <td>04/18/19 11:08</td>\n",
       "      <td>354 North St, Boston, MA 02215</td>\n",
       "    </tr>\n",
       "  </tbody>\n",
       "</table>\n",
       "<p>18289 rows × 6 columns</p>\n",
       "</div>"
      ],
      "text/plain": [
       "       Order ID                     Product  Quantity   Price  \\\n",
       "0        176558        USB-C Charging Cable         2   11.95   \n",
       "1        176559  Bose SoundSport Headphones         1   99.99   \n",
       "2        176560                Google Phone         1  600.00   \n",
       "3        176560            Wired Headphones         1   11.99   \n",
       "4        176561            Wired Headphones         1   11.99   \n",
       "...         ...                         ...       ...     ...   \n",
       "18284    194090                Google Phone         1  600.00   \n",
       "18285    194091       AA Batteries (4-pack)         1    3.84   \n",
       "18286    194092      AAA Batteries (4-pack)         2    2.99   \n",
       "18287    194093       AA Batteries (4-pack)         1    3.84   \n",
       "18288    194094    Lightning Charging Cable         1   14.95   \n",
       "\n",
       "             Order Date                                Customer  \n",
       "0        04/19/19 08:46            917 1st St, Dallas, TX 75001  \n",
       "1      04-07-2019 22:30       682 Chestnut St, Boston, MA 02215  \n",
       "2      04-12-2019 14:38    669 Spruce St, Los Angeles, CA 90001  \n",
       "3      04-12-2019 14:38    669 Spruce St, Los Angeles, CA 90001  \n",
       "4        04/30/19 09:27       333 8th St, Los Angeles, CA 90001  \n",
       "...                 ...                                     ...  \n",
       "18284  04-08-2019 17:11   177 Jackson St, Los Angeles, CA 90001  \n",
       "18285    04/15/19 16:02         311 Forest St, Austin, TX 73301  \n",
       "18286    04/28/19 14:36  347 Sunset St, San Francisco, CA 94016  \n",
       "18287    04/14/19 15:09         835 Lake St, Portland, OR 97035  \n",
       "18288    04/18/19 11:08          354 North St, Boston, MA 02215  \n",
       "\n",
       "[18289 rows x 6 columns]"
      ]
     },
     "execution_count": 3,
     "metadata": {},
     "output_type": "execute_result"
    }
   ],
   "source": [
    "data"
   ]
  },
  {
   "cell_type": "code",
   "execution_count": 4,
   "id": "233f4e5f",
   "metadata": {},
   "outputs": [
    {
     "data": {
      "text/html": [
       "<div>\n",
       "<style scoped>\n",
       "    .dataframe tbody tr th:only-of-type {\n",
       "        vertical-align: middle;\n",
       "    }\n",
       "\n",
       "    .dataframe tbody tr th {\n",
       "        vertical-align: top;\n",
       "    }\n",
       "\n",
       "    .dataframe thead th {\n",
       "        text-align: right;\n",
       "    }\n",
       "</style>\n",
       "<table border=\"1\" class=\"dataframe\">\n",
       "  <thead>\n",
       "    <tr style=\"text-align: right;\">\n",
       "      <th></th>\n",
       "      <th>Order ID</th>\n",
       "      <th>Product</th>\n",
       "      <th>Quantity</th>\n",
       "      <th>Price</th>\n",
       "      <th>Order Date</th>\n",
       "      <th>Customer</th>\n",
       "    </tr>\n",
       "  </thead>\n",
       "  <tbody>\n",
       "    <tr>\n",
       "      <th>0</th>\n",
       "      <td>176558</td>\n",
       "      <td>USB-C Charging Cable</td>\n",
       "      <td>2</td>\n",
       "      <td>11.95</td>\n",
       "      <td>04/19/19 08:46</td>\n",
       "      <td>917 1st St, Dallas, TX 75001</td>\n",
       "    </tr>\n",
       "    <tr>\n",
       "      <th>1</th>\n",
       "      <td>176559</td>\n",
       "      <td>Bose SoundSport Headphones</td>\n",
       "      <td>1</td>\n",
       "      <td>99.99</td>\n",
       "      <td>04-07-2019 22:30</td>\n",
       "      <td>682 Chestnut St, Boston, MA 02215</td>\n",
       "    </tr>\n",
       "    <tr>\n",
       "      <th>2</th>\n",
       "      <td>176560</td>\n",
       "      <td>Google Phone</td>\n",
       "      <td>1</td>\n",
       "      <td>600.00</td>\n",
       "      <td>04-12-2019 14:38</td>\n",
       "      <td>669 Spruce St, Los Angeles, CA 90001</td>\n",
       "    </tr>\n",
       "    <tr>\n",
       "      <th>3</th>\n",
       "      <td>176560</td>\n",
       "      <td>Wired Headphones</td>\n",
       "      <td>1</td>\n",
       "      <td>11.99</td>\n",
       "      <td>04-12-2019 14:38</td>\n",
       "      <td>669 Spruce St, Los Angeles, CA 90001</td>\n",
       "    </tr>\n",
       "    <tr>\n",
       "      <th>4</th>\n",
       "      <td>176561</td>\n",
       "      <td>Wired Headphones</td>\n",
       "      <td>1</td>\n",
       "      <td>11.99</td>\n",
       "      <td>04/30/19 09:27</td>\n",
       "      <td>333 8th St, Los Angeles, CA 90001</td>\n",
       "    </tr>\n",
       "  </tbody>\n",
       "</table>\n",
       "</div>"
      ],
      "text/plain": [
       "   Order ID                     Product  Quantity   Price        Order Date  \\\n",
       "0    176558        USB-C Charging Cable         2   11.95    04/19/19 08:46   \n",
       "1    176559  Bose SoundSport Headphones         1   99.99  04-07-2019 22:30   \n",
       "2    176560                Google Phone         1  600.00  04-12-2019 14:38   \n",
       "3    176560            Wired Headphones         1   11.99  04-12-2019 14:38   \n",
       "4    176561            Wired Headphones         1   11.99    04/30/19 09:27   \n",
       "\n",
       "                               Customer  \n",
       "0          917 1st St, Dallas, TX 75001  \n",
       "1     682 Chestnut St, Boston, MA 02215  \n",
       "2  669 Spruce St, Los Angeles, CA 90001  \n",
       "3  669 Spruce St, Los Angeles, CA 90001  \n",
       "4     333 8th St, Los Angeles, CA 90001  "
      ]
     },
     "execution_count": 4,
     "metadata": {},
     "output_type": "execute_result"
    }
   ],
   "source": [
    "data.head() # To display initial/starting rows information"
   ]
  },
  {
   "cell_type": "code",
   "execution_count": 5,
   "id": "dc6dceea",
   "metadata": {},
   "outputs": [
    {
     "name": "stdout",
     "output_type": "stream",
     "text": [
      "<class 'pandas.core.frame.DataFrame'>\n",
      "RangeIndex: 18289 entries, 0 to 18288\n",
      "Data columns (total 6 columns):\n",
      " #   Column      Non-Null Count  Dtype  \n",
      "---  ------      --------------  -----  \n",
      " 0   Order ID    18289 non-null  int64  \n",
      " 1   Product     18289 non-null  object \n",
      " 2   Quantity    18289 non-null  int64  \n",
      " 3   Price       18289 non-null  float64\n",
      " 4   Order Date  18289 non-null  object \n",
      " 5   Customer    18289 non-null  object \n",
      "dtypes: float64(1), int64(2), object(3)\n",
      "memory usage: 857.4+ KB\n"
     ]
    }
   ],
   "source": [
    "data.info()    #check datatype and information on data"
   ]
  },
  {
   "cell_type": "code",
   "execution_count": 6,
   "id": "5c0ada6d",
   "metadata": {},
   "outputs": [
    {
     "data": {
      "text/plain": [
       "Order ID      0\n",
       "Product       0\n",
       "Quantity      0\n",
       "Price         0\n",
       "Order Date    0\n",
       "Customer      0\n",
       "dtype: int64"
      ]
     },
     "execution_count": 6,
     "metadata": {},
     "output_type": "execute_result"
    }
   ],
   "source": [
    "# 2) Missing Values\n",
    "data.isnull().sum()"
   ]
  },
  {
   "cell_type": "code",
   "execution_count": 7,
   "id": "2c30a70e",
   "metadata": {},
   "outputs": [
    {
     "data": {
      "text/plain": [
       "Order ID      0.0\n",
       "Product       0.0\n",
       "Quantity      0.0\n",
       "Price         0.0\n",
       "Order Date    0.0\n",
       "Customer      0.0\n",
       "dtype: float64"
      ]
     },
     "execution_count": 7,
     "metadata": {},
     "output_type": "execute_result"
    }
   ],
   "source": [
    "(data.isnull().sum()/(len(data)))*100"
   ]
  },
  {
   "cell_type": "code",
   "execution_count": 8,
   "id": "2932b192",
   "metadata": {},
   "outputs": [
    {
     "data": {
      "text/plain": [
       "Order ID      17537\n",
       "Product          19\n",
       "Quantity          7\n",
       "Price            17\n",
       "Order Date    13583\n",
       "Customer      17119\n",
       "dtype: int64"
      ]
     },
     "execution_count": 8,
     "metadata": {},
     "output_type": "execute_result"
    }
   ],
   "source": [
    "# 3) Data Cleaning-\n",
    "data.nunique()    # to check duplications"
   ]
  },
  {
   "cell_type": "code",
   "execution_count": 9,
   "id": "0b6c9d1f",
   "metadata": {},
   "outputs": [
    {
     "data": {
      "text/html": [
       "<div>\n",
       "<style scoped>\n",
       "    .dataframe tbody tr th:only-of-type {\n",
       "        vertical-align: middle;\n",
       "    }\n",
       "\n",
       "    .dataframe tbody tr th {\n",
       "        vertical-align: top;\n",
       "    }\n",
       "\n",
       "    .dataframe thead th {\n",
       "        text-align: right;\n",
       "    }\n",
       "</style>\n",
       "<table border=\"1\" class=\"dataframe\">\n",
       "  <thead>\n",
       "    <tr style=\"text-align: right;\">\n",
       "      <th></th>\n",
       "      <th>Product</th>\n",
       "      <th>Quantity</th>\n",
       "      <th>Price</th>\n",
       "      <th>Order Date</th>\n",
       "      <th>Customer</th>\n",
       "    </tr>\n",
       "  </thead>\n",
       "  <tbody>\n",
       "    <tr>\n",
       "      <th>0</th>\n",
       "      <td>USB-C Charging Cable</td>\n",
       "      <td>2</td>\n",
       "      <td>11.95</td>\n",
       "      <td>04/19/19 08:46</td>\n",
       "      <td>917 1st St, Dallas, TX 75001</td>\n",
       "    </tr>\n",
       "    <tr>\n",
       "      <th>1</th>\n",
       "      <td>Bose SoundSport Headphones</td>\n",
       "      <td>1</td>\n",
       "      <td>99.99</td>\n",
       "      <td>04-07-2019 22:30</td>\n",
       "      <td>682 Chestnut St, Boston, MA 02215</td>\n",
       "    </tr>\n",
       "    <tr>\n",
       "      <th>2</th>\n",
       "      <td>Google Phone</td>\n",
       "      <td>1</td>\n",
       "      <td>600.00</td>\n",
       "      <td>04-12-2019 14:38</td>\n",
       "      <td>669 Spruce St, Los Angeles, CA 90001</td>\n",
       "    </tr>\n",
       "    <tr>\n",
       "      <th>3</th>\n",
       "      <td>Wired Headphones</td>\n",
       "      <td>1</td>\n",
       "      <td>11.99</td>\n",
       "      <td>04-12-2019 14:38</td>\n",
       "      <td>669 Spruce St, Los Angeles, CA 90001</td>\n",
       "    </tr>\n",
       "    <tr>\n",
       "      <th>4</th>\n",
       "      <td>Wired Headphones</td>\n",
       "      <td>1</td>\n",
       "      <td>11.99</td>\n",
       "      <td>04/30/19 09:27</td>\n",
       "      <td>333 8th St, Los Angeles, CA 90001</td>\n",
       "    </tr>\n",
       "    <tr>\n",
       "      <th>...</th>\n",
       "      <td>...</td>\n",
       "      <td>...</td>\n",
       "      <td>...</td>\n",
       "      <td>...</td>\n",
       "      <td>...</td>\n",
       "    </tr>\n",
       "    <tr>\n",
       "      <th>18284</th>\n",
       "      <td>Google Phone</td>\n",
       "      <td>1</td>\n",
       "      <td>600.00</td>\n",
       "      <td>04-08-2019 17:11</td>\n",
       "      <td>177 Jackson St, Los Angeles, CA 90001</td>\n",
       "    </tr>\n",
       "    <tr>\n",
       "      <th>18285</th>\n",
       "      <td>AA Batteries (4-pack)</td>\n",
       "      <td>1</td>\n",
       "      <td>3.84</td>\n",
       "      <td>04/15/19 16:02</td>\n",
       "      <td>311 Forest St, Austin, TX 73301</td>\n",
       "    </tr>\n",
       "    <tr>\n",
       "      <th>18286</th>\n",
       "      <td>AAA Batteries (4-pack)</td>\n",
       "      <td>2</td>\n",
       "      <td>2.99</td>\n",
       "      <td>04/28/19 14:36</td>\n",
       "      <td>347 Sunset St, San Francisco, CA 94016</td>\n",
       "    </tr>\n",
       "    <tr>\n",
       "      <th>18287</th>\n",
       "      <td>AA Batteries (4-pack)</td>\n",
       "      <td>1</td>\n",
       "      <td>3.84</td>\n",
       "      <td>04/14/19 15:09</td>\n",
       "      <td>835 Lake St, Portland, OR 97035</td>\n",
       "    </tr>\n",
       "    <tr>\n",
       "      <th>18288</th>\n",
       "      <td>Lightning Charging Cable</td>\n",
       "      <td>1</td>\n",
       "      <td>14.95</td>\n",
       "      <td>04/18/19 11:08</td>\n",
       "      <td>354 North St, Boston, MA 02215</td>\n",
       "    </tr>\n",
       "  </tbody>\n",
       "</table>\n",
       "<p>18289 rows × 5 columns</p>\n",
       "</div>"
      ],
      "text/plain": [
       "                          Product  Quantity   Price        Order Date  \\\n",
       "0            USB-C Charging Cable         2   11.95    04/19/19 08:46   \n",
       "1      Bose SoundSport Headphones         1   99.99  04-07-2019 22:30   \n",
       "2                    Google Phone         1  600.00  04-12-2019 14:38   \n",
       "3                Wired Headphones         1   11.99  04-12-2019 14:38   \n",
       "4                Wired Headphones         1   11.99    04/30/19 09:27   \n",
       "...                           ...       ...     ...               ...   \n",
       "18284                Google Phone         1  600.00  04-08-2019 17:11   \n",
       "18285       AA Batteries (4-pack)         1    3.84    04/15/19 16:02   \n",
       "18286      AAA Batteries (4-pack)         2    2.99    04/28/19 14:36   \n",
       "18287       AA Batteries (4-pack)         1    3.84    04/14/19 15:09   \n",
       "18288    Lightning Charging Cable         1   14.95    04/18/19 11:08   \n",
       "\n",
       "                                     Customer  \n",
       "0                917 1st St, Dallas, TX 75001  \n",
       "1           682 Chestnut St, Boston, MA 02215  \n",
       "2        669 Spruce St, Los Angeles, CA 90001  \n",
       "3        669 Spruce St, Los Angeles, CA 90001  \n",
       "4           333 8th St, Los Angeles, CA 90001  \n",
       "...                                       ...  \n",
       "18284   177 Jackson St, Los Angeles, CA 90001  \n",
       "18285         311 Forest St, Austin, TX 73301  \n",
       "18286  347 Sunset St, San Francisco, CA 94016  \n",
       "18287         835 Lake St, Portland, OR 97035  \n",
       "18288          354 North St, Boston, MA 02215  \n",
       "\n",
       "[18289 rows x 5 columns]"
      ]
     },
     "execution_count": 9,
     "metadata": {},
     "output_type": "execute_result"
    }
   ],
   "source": [
    "data1=data.drop(['Order ID'],axis=1)# to remove duplicate order ID\n",
    "data1"
   ]
  },
  {
   "cell_type": "code",
   "execution_count": 10,
   "id": "2a79527e",
   "metadata": {},
   "outputs": [
    {
     "data": {
      "text/html": [
       "<div>\n",
       "<style scoped>\n",
       "    .dataframe tbody tr th:only-of-type {\n",
       "        vertical-align: middle;\n",
       "    }\n",
       "\n",
       "    .dataframe tbody tr th {\n",
       "        vertical-align: top;\n",
       "    }\n",
       "\n",
       "    .dataframe thead th {\n",
       "        text-align: right;\n",
       "    }\n",
       "</style>\n",
       "<table border=\"1\" class=\"dataframe\">\n",
       "  <thead>\n",
       "    <tr style=\"text-align: right;\">\n",
       "      <th></th>\n",
       "      <th>count</th>\n",
       "      <th>mean</th>\n",
       "      <th>std</th>\n",
       "      <th>min</th>\n",
       "      <th>25%</th>\n",
       "      <th>50%</th>\n",
       "      <th>75%</th>\n",
       "      <th>max</th>\n",
       "    </tr>\n",
       "  </thead>\n",
       "  <tbody>\n",
       "    <tr>\n",
       "      <th>Quantity</th>\n",
       "      <td>18289.0</td>\n",
       "      <td>1.124610</td>\n",
       "      <td>0.436410</td>\n",
       "      <td>1.00</td>\n",
       "      <td>1.00</td>\n",
       "      <td>1.00</td>\n",
       "      <td>1.0</td>\n",
       "      <td>7.0</td>\n",
       "    </tr>\n",
       "    <tr>\n",
       "      <th>Price</th>\n",
       "      <td>18289.0</td>\n",
       "      <td>184.431026</td>\n",
       "      <td>330.913377</td>\n",
       "      <td>2.99</td>\n",
       "      <td>11.95</td>\n",
       "      <td>14.95</td>\n",
       "      <td>150.0</td>\n",
       "      <td>1700.0</td>\n",
       "    </tr>\n",
       "  </tbody>\n",
       "</table>\n",
       "</div>"
      ],
      "text/plain": [
       "            count        mean         std   min    25%    50%    75%     max\n",
       "Quantity  18289.0    1.124610    0.436410  1.00   1.00   1.00    1.0     7.0\n",
       "Price     18289.0  184.431026  330.913377  2.99  11.95  14.95  150.0  1700.0"
      ]
     },
     "execution_count": 10,
     "metadata": {},
     "output_type": "execute_result"
    }
   ],
   "source": [
    "#4)Statatisc computaion of given data\n",
    "data1.describe().T"
   ]
  },
  {
   "cell_type": "code",
   "execution_count": 11,
   "id": "4adc80c6",
   "metadata": {},
   "outputs": [
    {
     "data": {
      "text/html": [
       "<div>\n",
       "<style scoped>\n",
       "    .dataframe tbody tr th:only-of-type {\n",
       "        vertical-align: middle;\n",
       "    }\n",
       "\n",
       "    .dataframe tbody tr th {\n",
       "        vertical-align: top;\n",
       "    }\n",
       "\n",
       "    .dataframe thead th {\n",
       "        text-align: right;\n",
       "    }\n",
       "</style>\n",
       "<table border=\"1\" class=\"dataframe\">\n",
       "  <thead>\n",
       "    <tr style=\"text-align: right;\">\n",
       "      <th></th>\n",
       "      <th>Product</th>\n",
       "      <th>Quantity</th>\n",
       "      <th>Price</th>\n",
       "      <th>Order Date</th>\n",
       "      <th>Customer</th>\n",
       "    </tr>\n",
       "  </thead>\n",
       "  <tbody>\n",
       "    <tr>\n",
       "      <th>0</th>\n",
       "      <td>USB-C Charging Cable</td>\n",
       "      <td>2</td>\n",
       "      <td>11.95</td>\n",
       "      <td>04/19/19 08:46</td>\n",
       "      <td>917 1st St, Dallas, TX 75001</td>\n",
       "    </tr>\n",
       "    <tr>\n",
       "      <th>1</th>\n",
       "      <td>Bose SoundSport Headphones</td>\n",
       "      <td>1</td>\n",
       "      <td>99.99</td>\n",
       "      <td>04-07-2019 22:30</td>\n",
       "      <td>682 Chestnut St, Boston, MA 02215</td>\n",
       "    </tr>\n",
       "    <tr>\n",
       "      <th>2</th>\n",
       "      <td>Google Phone</td>\n",
       "      <td>1</td>\n",
       "      <td>600.00</td>\n",
       "      <td>04-12-2019 14:38</td>\n",
       "      <td>669 Spruce St, Los Angeles, CA 90001</td>\n",
       "    </tr>\n",
       "    <tr>\n",
       "      <th>3</th>\n",
       "      <td>Wired Headphones</td>\n",
       "      <td>1</td>\n",
       "      <td>11.99</td>\n",
       "      <td>04-12-2019 14:38</td>\n",
       "      <td>669 Spruce St, Los Angeles, CA 90001</td>\n",
       "    </tr>\n",
       "    <tr>\n",
       "      <th>4</th>\n",
       "      <td>Wired Headphones</td>\n",
       "      <td>1</td>\n",
       "      <td>11.99</td>\n",
       "      <td>04/30/19 09:27</td>\n",
       "      <td>333 8th St, Los Angeles, CA 90001</td>\n",
       "    </tr>\n",
       "    <tr>\n",
       "      <th>...</th>\n",
       "      <td>...</td>\n",
       "      <td>...</td>\n",
       "      <td>...</td>\n",
       "      <td>...</td>\n",
       "      <td>...</td>\n",
       "    </tr>\n",
       "    <tr>\n",
       "      <th>18284</th>\n",
       "      <td>Google Phone</td>\n",
       "      <td>1</td>\n",
       "      <td>600.00</td>\n",
       "      <td>04-08-2019 17:11</td>\n",
       "      <td>177 Jackson St, Los Angeles, CA 90001</td>\n",
       "    </tr>\n",
       "    <tr>\n",
       "      <th>18285</th>\n",
       "      <td>AA Batteries (4-pack)</td>\n",
       "      <td>1</td>\n",
       "      <td>3.84</td>\n",
       "      <td>04/15/19 16:02</td>\n",
       "      <td>311 Forest St, Austin, TX 73301</td>\n",
       "    </tr>\n",
       "    <tr>\n",
       "      <th>18286</th>\n",
       "      <td>AAA Batteries (4-pack)</td>\n",
       "      <td>2</td>\n",
       "      <td>2.99</td>\n",
       "      <td>04/28/19 14:36</td>\n",
       "      <td>347 Sunset St, San Francisco, CA 94016</td>\n",
       "    </tr>\n",
       "    <tr>\n",
       "      <th>18287</th>\n",
       "      <td>AA Batteries (4-pack)</td>\n",
       "      <td>1</td>\n",
       "      <td>3.84</td>\n",
       "      <td>04/14/19 15:09</td>\n",
       "      <td>835 Lake St, Portland, OR 97035</td>\n",
       "    </tr>\n",
       "    <tr>\n",
       "      <th>18288</th>\n",
       "      <td>Lightning Charging Cable</td>\n",
       "      <td>1</td>\n",
       "      <td>14.95</td>\n",
       "      <td>04/18/19 11:08</td>\n",
       "      <td>354 North St, Boston, MA 02215</td>\n",
       "    </tr>\n",
       "  </tbody>\n",
       "</table>\n",
       "<p>18289 rows × 5 columns</p>\n",
       "</div>"
      ],
      "text/plain": [
       "                          Product  Quantity   Price        Order Date  \\\n",
       "0            USB-C Charging Cable         2   11.95    04/19/19 08:46   \n",
       "1      Bose SoundSport Headphones         1   99.99  04-07-2019 22:30   \n",
       "2                    Google Phone         1  600.00  04-12-2019 14:38   \n",
       "3                Wired Headphones         1   11.99  04-12-2019 14:38   \n",
       "4                Wired Headphones         1   11.99    04/30/19 09:27   \n",
       "...                           ...       ...     ...               ...   \n",
       "18284                Google Phone         1  600.00  04-08-2019 17:11   \n",
       "18285       AA Batteries (4-pack)         1    3.84    04/15/19 16:02   \n",
       "18286      AAA Batteries (4-pack)         2    2.99    04/28/19 14:36   \n",
       "18287       AA Batteries (4-pack)         1    3.84    04/14/19 15:09   \n",
       "18288    Lightning Charging Cable         1   14.95    04/18/19 11:08   \n",
       "\n",
       "                                     Customer  \n",
       "0                917 1st St, Dallas, TX 75001  \n",
       "1           682 Chestnut St, Boston, MA 02215  \n",
       "2        669 Spruce St, Los Angeles, CA 90001  \n",
       "3        669 Spruce St, Los Angeles, CA 90001  \n",
       "4           333 8th St, Los Angeles, CA 90001  \n",
       "...                                       ...  \n",
       "18284   177 Jackson St, Los Angeles, CA 90001  \n",
       "18285         311 Forest St, Austin, TX 73301  \n",
       "18286  347 Sunset St, San Francisco, CA 94016  \n",
       "18287         835 Lake St, Portland, OR 97035  \n",
       "18288          354 North St, Boston, MA 02215  \n",
       "\n",
       "[18289 rows x 5 columns]"
      ]
     },
     "execution_count": 11,
     "metadata": {},
     "output_type": "execute_result"
    }
   ],
   "source": [
    "data1"
   ]
  },
  {
   "cell_type": "code",
   "execution_count": 12,
   "id": "432cfea0",
   "metadata": {},
   "outputs": [
    {
     "name": "stdout",
     "output_type": "stream",
     "text": [
      "3396059.11\n"
     ]
    }
   ],
   "source": [
    "# Total Sales Revenu computaion \n",
    "data1['Total_Sales_Revenue']=data1['Quantity'] * data1['Price']\n",
    "print(data1['Total_Sales_Revenue'].sum())"
   ]
  },
  {
   "cell_type": "code",
   "execution_count": 13,
   "id": "c866f83c",
   "metadata": {},
   "outputs": [
    {
     "data": {
      "text/html": [
       "<div>\n",
       "<style scoped>\n",
       "    .dataframe tbody tr th:only-of-type {\n",
       "        vertical-align: middle;\n",
       "    }\n",
       "\n",
       "    .dataframe tbody tr th {\n",
       "        vertical-align: top;\n",
       "    }\n",
       "\n",
       "    .dataframe thead th {\n",
       "        text-align: right;\n",
       "    }\n",
       "</style>\n",
       "<table border=\"1\" class=\"dataframe\">\n",
       "  <thead>\n",
       "    <tr style=\"text-align: right;\">\n",
       "      <th></th>\n",
       "      <th>Product</th>\n",
       "      <th>Quantity</th>\n",
       "      <th>Price</th>\n",
       "      <th>Order Date</th>\n",
       "      <th>Customer</th>\n",
       "      <th>Total_Sales_Revenue</th>\n",
       "    </tr>\n",
       "  </thead>\n",
       "  <tbody>\n",
       "    <tr>\n",
       "      <th>0</th>\n",
       "      <td>USB-C Charging Cable</td>\n",
       "      <td>2</td>\n",
       "      <td>11.95</td>\n",
       "      <td>04/19/19 08:46</td>\n",
       "      <td>917 1st St, Dallas, TX 75001</td>\n",
       "      <td>23.90</td>\n",
       "    </tr>\n",
       "    <tr>\n",
       "      <th>1</th>\n",
       "      <td>Bose SoundSport Headphones</td>\n",
       "      <td>1</td>\n",
       "      <td>99.99</td>\n",
       "      <td>04-07-2019 22:30</td>\n",
       "      <td>682 Chestnut St, Boston, MA 02215</td>\n",
       "      <td>99.99</td>\n",
       "    </tr>\n",
       "    <tr>\n",
       "      <th>2</th>\n",
       "      <td>Google Phone</td>\n",
       "      <td>1</td>\n",
       "      <td>600.00</td>\n",
       "      <td>04-12-2019 14:38</td>\n",
       "      <td>669 Spruce St, Los Angeles, CA 90001</td>\n",
       "      <td>600.00</td>\n",
       "    </tr>\n",
       "    <tr>\n",
       "      <th>3</th>\n",
       "      <td>Wired Headphones</td>\n",
       "      <td>1</td>\n",
       "      <td>11.99</td>\n",
       "      <td>04-12-2019 14:38</td>\n",
       "      <td>669 Spruce St, Los Angeles, CA 90001</td>\n",
       "      <td>11.99</td>\n",
       "    </tr>\n",
       "    <tr>\n",
       "      <th>4</th>\n",
       "      <td>Wired Headphones</td>\n",
       "      <td>1</td>\n",
       "      <td>11.99</td>\n",
       "      <td>04/30/19 09:27</td>\n",
       "      <td>333 8th St, Los Angeles, CA 90001</td>\n",
       "      <td>11.99</td>\n",
       "    </tr>\n",
       "  </tbody>\n",
       "</table>\n",
       "</div>"
      ],
      "text/plain": [
       "                      Product  Quantity   Price        Order Date  \\\n",
       "0        USB-C Charging Cable         2   11.95    04/19/19 08:46   \n",
       "1  Bose SoundSport Headphones         1   99.99  04-07-2019 22:30   \n",
       "2                Google Phone         1  600.00  04-12-2019 14:38   \n",
       "3            Wired Headphones         1   11.99  04-12-2019 14:38   \n",
       "4            Wired Headphones         1   11.99    04/30/19 09:27   \n",
       "\n",
       "                               Customer  Total_Sales_Revenue  \n",
       "0          917 1st St, Dallas, TX 75001                23.90  \n",
       "1     682 Chestnut St, Boston, MA 02215                99.99  \n",
       "2  669 Spruce St, Los Angeles, CA 90001               600.00  \n",
       "3  669 Spruce St, Los Angeles, CA 90001                11.99  \n",
       "4     333 8th St, Los Angeles, CA 90001                11.99  "
      ]
     },
     "execution_count": 13,
     "metadata": {},
     "output_type": "execute_result"
    }
   ],
   "source": [
    "data1.head() # Added Total sales Revenu into sale data"
   ]
  },
  {
   "cell_type": "code",
   "execution_count": 14,
   "id": "3df2e28a",
   "metadata": {},
   "outputs": [
    {
     "data": {
      "text/plain": [
       "0        2\n",
       "1        1\n",
       "2        1\n",
       "3        1\n",
       "4        1\n",
       "        ..\n",
       "18284    1\n",
       "18285    1\n",
       "18286    2\n",
       "18287    1\n",
       "18288    1\n",
       "Name: Quantity, Length: 18289, dtype: int64"
      ]
     },
     "execution_count": 14,
     "metadata": {},
     "output_type": "execute_result"
    }
   ],
   "source": [
    "#4) Visulize the data\n",
    "P1=data1['Quantity']\n",
    "P1"
   ]
  },
  {
   "cell_type": "code",
   "execution_count": 15,
   "id": "f4204a28",
   "metadata": {},
   "outputs": [
    {
     "name": "stdout",
     "output_type": "stream",
     "text": [
      "Skew : 4.58\n"
     ]
    },
    {
     "data": {
      "image/png": "[encoded data removed]",
      "text/plain": [
       "<Figure size 640x480 with 1 Axes>"
      ]
     },
     "metadata": {},
     "output_type": "display_data"
    }
   ],
   "source": [
    "# Histograph\n",
    "print('Skew :', round(data['Quantity'].skew(), 2))\n",
    "data['Quantity'].hist(grid=False)\n",
    "plt.ylabel('count')\n",
    "plt.show()"
   ]
  },
  {
   "cell_type": "code",
   "execution_count": 18,
   "id": "20481466",
   "metadata": {},
   "outputs": [
    {
     "data": {
      "image/png": "[encoded data removed]",
      "text/plain": [
       "<Figure size 640x480 with 1 Axes>"
      ]
     },
     "metadata": {},
     "output_type": "display_data"
    }
   ],
   "source": [
    "# Scatter plot for Quantity n Price\n",
    "plt.scatter(data['Quantity'],data['Price'])\n",
    "plt.xlabel('Quantity')\n",
    "plt.ylabel(\"Price\")\n",
    "plt.show()"
   ]
  },
  {
   "cell_type": "code",
   "execution_count": 19,
   "id": "5e6de081",
   "metadata": {},
   "outputs": [
    {
     "data": {
      "text/plain": [
       "<AxesSubplot:xlabel='Revenue', ylabel='Product'>"
      ]
     },
     "execution_count": 19,
     "metadata": {},
     "output_type": "execute_result"
    },
    {
     "data": {
      "image/png": "[encoded data removed]",
      "text/plain": [
       "<Figure size 640x480 with 1 Axes>"
      ]
     },
     "metadata": {},
     "output_type": "display_data"
    }
   ],
   "source": [
    "#5) Perform categorical analysis:\n",
    "import seaborn as sns\n",
    "data2=data.groupby(\"Product\").agg({\"Quantity\":\"sum\",\"Price\":\"mean\"})\n",
    "data2[\"Revenue\"]=data2['Quantity']*data2['Price']\n",
    "data2\n",
    "sns.barplot(x='Revenue',y=data2.index, data=data2, order=data2.index)"
   ]
  },
  {
   "cell_type": "code",
   "execution_count": 20,
   "id": "d72a4e3e",
   "metadata": {},
   "outputs": [
    {
     "data": {
      "image/png": "[encoded data removed]",
      "text/plain": [
       "<Figure size 640x480 with 1 Axes>"
      ]
     },
     "metadata": {},
     "output_type": "display_data"
    }
   ],
   "source": [
    "#6) Identify Outliers\n",
    "outliers=[]\n",
    "mean = np.mean(data2['Price'])\n",
    "std = np.std(data2['Price'])\n",
    "z_scores=(data2['Price']-data2['Price'].mean())/data2['Price'].std()\n",
    "outliers=data2[abs(z_scores) > 3]\n",
    "sns.boxplot(x=data2['Price'])\n",
    "plt.show()"
   ]
  },
  {
   "cell_type": "code",
   "execution_count": null,
   "id": "4f232567",
   "metadata": {},
   "outputs": [],
   "source": [
    "#7)Weekly sales-Convert date to datetimes\n",
    "data['Order Date']=pd.to_datetime(data['Order Date'])\n",
    "weekly_sales=data.resample('w',on='Order Date').sum()\n",
    "weekly_sales"
   ]
  },
  {
   "cell_type": "code",
   "execution_count": null,
   "id": "b5022ad3",
   "metadata": {},
   "outputs": [],
   "source": [
    "plt.plot(weekly_sales.index)\n",
    "plt.ylabel('week')\n",
    "plt.xlabel('Sale_Revenue')\n",
    "plt.show()"
   ]
  },
  {
   "cell_type": "code",
   "execution_count": null,
   "id": "07b76f4a",
   "metadata": {},
   "outputs": [],
   "source": [
    "#Question 2"
   ]
  },
  {
   "cell_type": "code",
   "execution_count": null,
   "id": "d7387fd3",
   "metadata": {},
   "outputs": [],
   "source": [
    "df=pd.read_csv(r\"C:\\Users\\PQ593TU\\OneDrive - EY\\Desktop\\Market Risk & Python Training\\Python Training\\5th session\\supermarket_sales.csv\")\n",
    "df"
   ]
  },
  {
   "cell_type": "markdown",
   "id": "e8807ebc",
   "metadata": {},
   "source": [
    "Q1: What does the customer rating look like and is it skewed?\n",
    "\n",
    "Answer - Yes it is skewed."
   ]
  },
  {
   "cell_type": "code",
   "execution_count": null,
   "id": "9c948a03",
   "metadata": {},
   "outputs": [],
   "source": [
    "customer_rating=df['Rating']\n",
    "print('customer_rating')\n",
    "plt.hist(customer_rating) # for numerical varible we use histogram to show result\n",
    "plt.title('Customer Rating')\n",
    "plt.show()\n",
    "\n",
    "Skewness=customer_rating.skew()\n",
    "print(Skewness)"
   ]
  },
  {
   "cell_type": "code",
   "execution_count": null,
   "id": "833dec5a",
   "metadata": {},
   "outputs": [],
   "source": [
    "Q2: Is there any difference in aggregate sales across branches?\n",
    "    Yes the all branches sales are different here.\n",
    "    Branch A has high sales than B & C."
   ]
  },
  {
   "cell_type": "code",
   "execution_count": null,
   "id": "0345b8b4",
   "metadata": {},
   "outputs": [],
   "source": [
    "# Aggregate Sale for each branch\n",
    "Branch_sale = df.groupby('Branch')['Quantity'].sum()\n",
    "Branch_sale"
   ]
  },
  {
   "cell_type": "code",
   "execution_count": null,
   "id": "06fda512",
   "metadata": {},
   "outputs": [],
   "source": [
    "#Visualise the bar chart\n",
    "plt.bar(Branch_sale.index, Branch_sale.values)\n",
    "plt.xlabel('Branch Name')\n",
    "plt.ylabel('Sale')\n",
    "plt.show()\n"
   ]
  },
  {
   "cell_type": "markdown",
   "id": "8b9c9e41",
   "metadata": {},
   "source": [
    "Question 3: Which is the most pouplar payment method used by customers?\n",
    "\n",
    "A-Ewallet payment method most popular methos used by customers."
   ]
  },
  {
   "cell_type": "code",
   "execution_count": null,
   "id": "1cfab889",
   "metadata": {},
   "outputs": [],
   "source": [
    "Payment_Method=df['Payment']\n",
    "Payment_Method\n",
    "count=Payment_Method.value_counts()\n",
    "count"
   ]
  },
  {
   "cell_type": "code",
   "execution_count": null,
   "id": "fe85601a",
   "metadata": {},
   "outputs": [],
   "source": [
    "plt.bar(count.index,count.values)\n",
    "plt.show()"
   ]
  },
  {
   "cell_type": "markdown",
   "id": "afa69abc",
   "metadata": {},
   "source": [
    "Q4: Does gross income affect the ratings that the customers provide?\n",
    "\n",
    "A- it seems no relation between two variable"
   ]
  },
  {
   "cell_type": "code",
   "execution_count": null,
   "id": "e06414aa",
   "metadata": {},
   "outputs": [],
   "source": [
    "gross_income=df['gross income']\n",
    "Rating=df['Rating']\n",
    "plt.scatter(x=gross_income,y=Rating.values) # scatter plot used to see relation between two numerical varible (gross income & Rating)\n",
    "plt.show()"
   ]
  },
  {
   "cell_type": "code",
   "execution_count": null,
   "id": "d4ad4316",
   "metadata": {},
   "outputs": [],
   "source": [
    "Q5: Which branch is the most profitable?\n",
    "\n",
    "A-Branch C"
   ]
  },
  {
   "cell_type": "code",
   "execution_count": null,
   "id": "0db0b744",
   "metadata": {},
   "outputs": [],
   "source": [
    "Branch = df.groupby('Branch')['gross income'].sum()\n",
    "Branch"
   ]
  },
  {
   "cell_type": "code",
   "execution_count": null,
   "id": "1daf3db1",
   "metadata": {},
   "outputs": [],
   "source": [
    "plt.bar(Branch.index,Branch.values)\n",
    "plt.show()"
   ]
  },
  {
   "cell_type": "markdown",
   "id": "ebe45acf",
   "metadata": {},
   "source": [
    "Q7: Which product line generates most income?\n",
    "\n",
    "A-"
   ]
  },
  {
   "cell_type": "code",
   "execution_count": null,
   "id": "3bad04de",
   "metadata": {},
   "outputs": [],
   "source": [
    "Product_line=df.groupby('Product line')['gross income'].sum()\n",
    "Product_line"
   ]
  },
  {
   "cell_type": "code",
   "execution_count": null,
   "id": "cf0c8630",
   "metadata": {},
   "outputs": [],
   "source": [
    "plt.bar(Product_line.index,Product_line.values)\n",
    "plt.xlabel('Product line')\n",
    "plt.ylabel('Total sale')\n",
    "plt.show()"
   ]
  },
  {
   "cell_type": "markdown",
   "id": "125866bc",
   "metadata": {},
   "source": [
    "Q8: Show the correlation between all variable."
   ]
  },
  {
   "cell_type": "code",
   "execution_count": null,
   "id": "6d745faf",
   "metadata": {},
   "outputs": [],
   "source": [
    "Correlation_matrix=df.corr()\n",
    "Correlation_matrix"
   ]
  },
  {
   "cell_type": "code",
   "execution_count": null,
   "id": "51261506",
   "metadata": {},
   "outputs": [],
   "source": [
    "sns.heatmap(Correlation_matrix,annot=True)\n",
    "plt.show()"
   ]
  },
  {
   "cell_type": "code",
   "execution_count": null,
   "id": "da16df9f",
   "metadata": {},
   "outputs": [],
   "source": []
  }
 ],
 "metadata": {
  "kernelspec": {
   "display_name": "Python 3 (ipykernel)",
   "language": "python",
   "name": "python3"
  },
  "language_info": {
   "codemirror_mode": {
    "name": "ipython",
    "version": 3
   },
   "file_extension": ".py",
   "mimetype": "text/x-python",
   "name": "python",
   "nbconvert_exporter": "python",
   "pygments_lexer": "ipython3",
   "version": "3.9.13"
  }
 },
 "nbformat": 4,
 "nbformat_minor": 5
}
