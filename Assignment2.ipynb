{
 "cells": [
  {
   "cell_type": "code",
   "execution_count": 1,
   "id": "96b25a6a",
   "metadata": {},
   "outputs": [
    {
     "name": "stdout",
     "output_type": "stream",
     "text": [
      "X process\n"
     ]
    }
   ],
   "source": [
    "#2)MRO Problems\n",
    "class X:\n",
    "    def process(self):\n",
    "        print(\"X process\")\n",
    "    pass\n",
    "class Y: \n",
    "    def process(self):\n",
    "        print(\"Y Process\")\n",
    "    pass\n",
    "class Z:\n",
    "    pass\n",
    "#Derived class\n",
    "class A(X,Y):\n",
    "    pass\n",
    "class B(Y,Z):\n",
    "    pass\n",
    "class M(B,A,Z):\n",
    "    pass\n",
    "objc = M()\n",
    "objc.process()"
   ]
  },
  {
   "cell_type": "code",
   "execution_count": 2,
   "id": "c4447072",
   "metadata": {},
   "outputs": [
    {
     "data": {
      "text/plain": [
       "[__main__.M,\n",
       " __main__.B,\n",
       " __main__.A,\n",
       " __main__.X,\n",
       " __main__.Y,\n",
       " __main__.Z,\n",
       " object]"
      ]
     },
     "execution_count": 2,
     "metadata": {},
     "output_type": "execute_result"
    }
   ],
   "source": [
    "M.mro()"
   ]
  },
  {
   "cell_type": "code",
   "execution_count": 3,
   "id": "e55325b5",
   "metadata": {},
   "outputs": [
    {
     "ename": "TypeError",
     "evalue": "Cannot create a consistent method resolution\norder (MRO) for bases A, B",
     "output_type": "error",
     "traceback": [
      "\u001b[1;31m---------------------------------------------------------------------------\u001b[0m",
      "\u001b[1;31mTypeError\u001b[0m                                 Traceback (most recent call last)",
      "\u001b[1;32m~\\AppData\\Local\\Temp\\ipykernel_41100\\68745136.py\u001b[0m in \u001b[0;36m<module>\u001b[1;34m\u001b[0m\n\u001b[0;32m      9\u001b[0m \u001b[1;33m\u001b[0m\u001b[0m\n\u001b[0;32m     10\u001b[0m \u001b[1;33m\u001b[0m\u001b[0m\n\u001b[1;32m---> 11\u001b[1;33m \u001b[1;32mclass\u001b[0m \u001b[0mC\u001b[0m\u001b[1;33m(\u001b[0m\u001b[0mA\u001b[0m\u001b[1;33m,\u001b[0m \u001b[0mB\u001b[0m\u001b[1;33m)\u001b[0m\u001b[1;33m:\u001b[0m\u001b[1;33m\u001b[0m\u001b[1;33m\u001b[0m\u001b[0m\n\u001b[0m\u001b[0;32m     12\u001b[0m     \u001b[1;32mpass\u001b[0m\u001b[1;33m\u001b[0m\u001b[1;33m\u001b[0m\u001b[0m\n\u001b[0;32m     13\u001b[0m \u001b[1;33m\u001b[0m\u001b[0m\n",
      "\u001b[1;31mTypeError\u001b[0m: Cannot create a consistent method resolution\norder (MRO) for bases A, B"
     ]
    }
   ],
   "source": [
    "class A:\n",
    "    def process(self):\n",
    "        print('A process()')\n",
    "\n",
    "\n",
    "class B(A):\n",
    "    def process(self):\n",
    "        print('B process()')\n",
    "\n",
    "\n",
    "class C(A, B):\n",
    "    pass\n",
    "\n",
    "\n",
    "obj = C()\n",
    "obj.process()"
   ]
  },
  {
   "cell_type": "code",
   "execution_count": 21,
   "id": "75f445e0",
   "metadata": {},
   "outputs": [
    {
     "name": "stdout",
     "output_type": "stream",
     "text": [
      "Hello, Vidya Welcome to the HDFC bank and you Balance 1000\n",
      "<__main__.Bank_Account object at 0x000002D2560E3580>\n",
      "Enter amount to be Deposited: 500\n",
      "1500.0\n",
      "Enter amount to be Withdrawn: 100\n",
      "\n",
      " You Withdrew: 100.0\n",
      "None\n",
      "Enter amount to be transfer: 500\n",
      "\n",
      " You transferred: 500.0\n",
      "\n",
      "\n",
      " Net Available Balance= 400.0\n",
      "None\n"
     ]
    }
   ],
   "source": [
    "#3) Banking system\n",
    "class Bank_Account:\n",
    "    def __init__(self,name,balance):\n",
    "        self.name=name\n",
    "        self.balance=balance\n",
    "        print(\"Hello,\", self.name, \"Welcome to the HDFC bank and you Balance\",self.balance)\n",
    " \n",
    "    def deposit(self):\n",
    "        amount=float(input(\"Enter amount to be Deposited: \"))\n",
    "        return self.balance+amount\n",
    "        print(\"\\n Amount Deposited:\",amount)\n",
    " \n",
    "    def withdraw(self):\n",
    "        amount = float(input(\"Enter amount to be Withdrawn: \"))\n",
    "        if self.balance>=amount:\n",
    "            self.balance-=amount\n",
    "            print(\"\\n You Withdrew:\", amount)\n",
    "        else:\n",
    "            print(\"\\n Insufficient balance  \")\n",
    "            \n",
    "    def transfer(self):\n",
    "        amount= float(input(\"Enter amount to be transfer: \"))\n",
    "        if self.balance>=amount:\n",
    "            self.balance-=amount\n",
    "            print(\"\\n You transferred:\",amount)\n",
    "        else:\n",
    "            print(\"\\n Technical error\")\n",
    " \n",
    "    def display(self):\n",
    "        print(\"\\n Net Available Balance=\",self.balance)\n",
    " \n",
    "s = Bank_Account(\"Vidya\",1000)\n",
    "print(s)\n",
    "\n",
    "a = s.deposit()\n",
    "print(a)\n",
    "\n",
    "b = s.withdraw()\n",
    "print(b)\n",
    "c=s.transfer()\n",
    "print()\n",
    "d=s.display()  \n",
    "print(d)"
   ]
  },
  {
   "cell_type": "code",
   "execution_count": null,
   "id": "e9d54d74",
   "metadata": {},
   "outputs": [],
   "source": [
    "#1) Complex Numder\n",
    "\n",
    "import math\n",
    "\n",
    "class Complex(object):\n",
    "    def __init__(self, real, imaginary):\n",
    "        self.real = real\n",
    "        self.imaginary = imaginary\n",
    "\n",
    "    def __add__(self, number):\n",
    "        return Complex((self.real+number.real), self.imaginary+number.imaginary)\n",
    "\n",
    "    def __sub__(self, number):\n",
    "        return Complex((self.real-number.real), (self.imaginary-number.imaginary))\n",
    "\n",
    "    def __mul__(self, number):\n",
    "        r = (self.real*number.real)-(self.imaginary*number.imaginary)\n",
    "        i = (self.real*number.imaginary+number.real*self.imaginary)\n",
    "        return Complex(r, i)\n",
    "\n",
    "    "
   ]
  }
 ],
 "metadata": {
  "kernelspec": {
   "display_name": "Python 3 (ipykernel)",
   "language": "python",
   "name": "python3"
  },
  "language_info": {
   "codemirror_mode": {
    "name": "ipython",
    "version": 3
   },
   "file_extension": ".py",
   "mimetype": "text/x-python",
   "name": "python",
   "nbconvert_exporter": "python",
   "pygments_lexer": "ipython3",
   "version": "3.9.13"
  }
 },
 "nbformat": 4,
 "nbformat_minor": 5
}
